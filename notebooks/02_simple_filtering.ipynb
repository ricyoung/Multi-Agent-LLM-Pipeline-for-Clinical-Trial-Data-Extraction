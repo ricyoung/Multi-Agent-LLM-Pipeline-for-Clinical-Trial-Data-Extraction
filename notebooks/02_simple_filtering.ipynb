{
 "cells": [
  {
   "cell_type": "code",
   "execution_count": null,
   "metadata": {},
   "outputs": [],
   "source": [
    "import os\n",
    "import pandas as pd\n",
    "import numpy as np\n",
    "# import openai\n",
    "import requests\n",
    "import pandas as pd\n",
    "# import openai\n",
    "import json\n",
    "\n",
    "import logging\n",
    "import time\n",
    "\n",
    "from typing import List, Dict, Any, Optional\n",
    "from enum import Enum\n",
    "from dataclasses import dataclass\n",
    "\n",
    "import openrouter\n",
    "\n"
   ]
  },
  {
   "cell_type": "code",
   "execution_count": null,
   "metadata": {},
   "outputs": [],
   "source": [
    "# Import the openrouter module\n",
    "\n",
    "\n",
    "# Set the API key\n",
    "# openrouter.api_key = os.getenv(\"OPENROUTER_API_KEY\")\n",
    "\n",
    "\n"
   ]
  },
  {
   "cell_type": "code",
   "execution_count": null,
   "metadata": {},
   "outputs": [],
   "source": [
    "    "
   ]
  },
  {
   "cell_type": "code",
   "execution_count": null,
   "metadata": {},
   "outputs": [],
   "source": [
    "disease = 'aged'"
   ]
  },
  {
   "cell_type": "code",
   "execution_count": null,
   "metadata": {},
   "outputs": [],
   "source": [
    "# Define file path\n",
    "# file_path_parquet = os.path.join('02_data_processed', '02_covariates_filtered.parquet')\n",
    "\n",
    "file_path_parquet = os.path.join('01_data_raw', f'01_{disease.lower()}.parquet')\n",
    "\n",
    "# Load the DataFrame from the Parquet file\n",
    "df_covariates = pd.read_parquet(file_path_parquet)\n",
    "\n",
    "# Display the DataFrame\n",
    "print(df_covariates)"
   ]
  },
  {
   "cell_type": "code",
   "execution_count": null,
   "metadata": {},
   "outputs": [],
   "source": [
    "print(df_covariates.columns)"
   ]
  },
  {
   "cell_type": "code",
   "execution_count": null,
   "metadata": {},
   "outputs": [],
   "source": []
  },
  {
   "cell_type": "code",
   "execution_count": null,
   "metadata": {},
   "outputs": [],
   "source": [
    "# Define the keywords to search for\n",
    "\n",
    "keywords = ['tdcs', 't-dcs', 'tacs', 'trns' , 'TPCS', 'HD-tdcs']\n",
    "\n",
    "# Create a regex pattern for case-insensitive search\n",
    "pattern = '|'.join(keywords)\n",
    "\n",
    "# Filter the DataFrame where any column contains the pattern\n",
    "filtered_df = df_covariates[df_covariates.apply(\n",
    "    lambda row: row.astype(str).str.contains(pattern, case=False, na=False).any(), axis=1\n",
    ")]\n",
    "\n",
    "# Display the filtered DataFrame\n",
    "# print(filtered_df)\n",
    "\n",
    "print(f\"Number of rows before filtering: {df_covariates.shape[0]}\")\n",
    "print(f\"Number of rows after filtering: {filtered_df.shape[0]}\")"
   ]
  },
  {
   "cell_type": "markdown",
   "metadata": {},
   "source": [
    "removed one from the list after manual review"
   ]
  },
  {
   "cell_type": "markdown",
   "metadata": {},
   "source": [
    "NCT03221413 - is a tacs \n",
    "NCT03217110 - is a tms\n"
   ]
  },
  {
   "cell_type": "code",
   "execution_count": null,
   "metadata": {},
   "outputs": [],
   "source": [
    "filtered_df = filtered_df[~filtered_df['NCTId'].isin(['NCT03217110', 'NCT03221413'])]\n",
    "print(filtered_df)"
   ]
  },
  {
   "cell_type": "code",
   "execution_count": null,
   "metadata": {},
   "outputs": [],
   "source": [
    "os.makedirs('02_filtered_data', exist_ok=True)\n",
    "save_path = os.path.join('02_filtered_data', '02_simple_filter.parquet')\n",
    "filtered_df.to_parquet(save_path)\n"
   ]
  },
  {
   "cell_type": "code",
   "execution_count": null,
   "metadata": {},
   "outputs": [],
   "source": [
    "filtered_df['Index'] = range(1, len(filtered_df) + 1)\n",
    "print(filtered_df)"
   ]
  },
  {
   "cell_type": "code",
   "execution_count": null,
   "metadata": {},
   "outputs": [],
   "source": [
    "import pandas as pd\n",
    "\n",
    "# Example: filtered_df has at least two columns: \n",
    "# Column A (some data), Column B (the NCT number), etc.\n",
    "\n",
    "# Make a copy of your incoming DataFrame\n",
    "df = filtered_df.copy()\n",
    "\n",
    "# Suppose column B is named \"NCT_ID\"\n",
    "# We create a new column (column C) called \"ClinicalTrialsLink\"\n",
    "# Using Excel\u2019s HYPERLINK formula ensures that the links are clickable in Excel.\n",
    "df.insert(\n",
    "    loc=2,  # Insert as the third column (which will appear as column C)\n",
    "    column='ClinicalTrialsLink',\n",
    "    value=df['NCTId'].apply(lambda x: f'=HYPERLINK(\"https://clinicaltrials.gov/study/{x}\", \"{x}\")')\n",
    ")\n",
    "\n",
    "\n"
   ]
  },
  {
   "cell_type": "code",
   "execution_count": null,
   "metadata": {},
   "outputs": [],
   "source": [
    "# Save the filtered DataFrame to an Excel file\n",
    "df.to_excel('02_filtered_data/02_simple_filter.xlsx', index=False)"
   ]
  },
  {
   "cell_type": "code",
   "execution_count": null,
   "metadata": {},
   "outputs": [],
   "source": [
    "1=2"
   ]
  }
 ],
 "metadata": {
  "kernelspec": {
   "display_name": "PD_research_2",
   "language": "python",
   "name": "python3"
  },
  "language_info": {
   "codemirror_mode": {
    "name": "ipython",
    "version": 3
   },
   "file_extension": ".py",
   "mimetype": "text/x-python",
   "name": "python",
   "nbconvert_exporter": "python",
   "pygments_lexer": "ipython3",
   "version": "3.12.0"
  }
 },
 "nbformat": 4,
 "nbformat_minor": 2
}